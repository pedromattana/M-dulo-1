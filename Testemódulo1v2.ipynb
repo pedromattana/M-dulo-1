{
  "nbformat": 4,
  "nbformat_minor": 0,
  "metadata": {
    "colab": {
      "provenance": []
    },
    "kernelspec": {
      "name": "python3",
      "display_name": "Python 3"
    },
    "language_info": {
      "name": "python"
    }
  },
  "cells": [
    {
      "cell_type": "markdown",
      "source": [
        "## ***Arquivo apenas para teste da atividade do de ciração do repositório do GitHUB***"
      ],
      "metadata": {
        "id": "iJ1yXP9uw7yl"
      }
    },
    {
      "cell_type": "code",
      "execution_count": null,
      "metadata": {
        "id": "o4yH-NkQwvcO"
      },
      "outputs": [],
      "source": []
    }
  ]
}